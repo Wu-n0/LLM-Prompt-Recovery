{
 "cells": [
  {
   "cell_type": "markdown",
   "id": "ed28c309",
   "metadata": {
    "papermill": {
     "duration": 0.006955,
     "end_time": "2024-04-09T12:36:42.545509",
     "exception": false,
     "start_time": "2024-04-09T12:36:42.538554",
     "status": "completed"
    },
    "tags": []
   },
   "source": [
    "# Let's just ask Mistral 7B... \n",
    "* This version tries to keep Mistral focussed on main / obvious changes\n",
    "* All responses in the format of \"Improve this text by [adding a magician].\"\n",
    "* Cut Mistral off after a single sentence (corrected for this run)\n",
    "* Hope is to get some specifics correct without rambling on about stuff that wasn't likely in the prompt\n",
    "\n",
    "#### No training is performed... \n",
    "\n",
    "#### For this version I've used ChatGPT to create some very neutral, non-specific examples for Mistral.\n",
    "\n",
    "#### If Mistral doesn't answer we provide this well-scoring baseline text: https://www.kaggle.com/code/rdxsun/lb-0-61\n",
    "\n",
    "### (GPU required to support quantization)\n"
   ]
  },
  {
   "cell_type": "markdown",
   "id": "51879b4f",
   "metadata": {
    "papermill": {
     "duration": 0.006483,
     "end_time": "2024-04-09T12:36:42.558403",
     "exception": false,
     "start_time": "2024-04-09T12:36:42.551920",
     "status": "completed"
    },
    "tags": []
   },
   "source": [
    "# Borrow some whl files to run Mistral 7B with internet off"
   ]
  },
  {
   "cell_type": "code",
   "execution_count": 1,
   "id": "4b5f8d75",
   "metadata": {
    "execution": {
     "iopub.execute_input": "2024-04-09T12:36:42.572913Z",
     "iopub.status.busy": "2024-04-09T12:36:42.572277Z",
     "iopub.status.idle": "2024-04-09T12:37:24.483247Z",
     "shell.execute_reply": "2024-04-09T12:37:24.482090Z"
    },
    "papermill": {
     "duration": 41.920696,
     "end_time": "2024-04-09T12:37:24.485591",
     "exception": false,
     "start_time": "2024-04-09T12:36:42.564895",
     "status": "completed"
    },
    "tags": []
   },
   "outputs": [],
   "source": [
    "# https://www.kaggle.com/code/hotchpotch/llm-detect-pip \n",
    "!pip install -q -U accelerate --no-index --find-links ../input/llm-detect-pip/\n",
    "!pip install -q -U bitsandbytes --no-index --find-links ../input/llm-detect-pip/\n",
    "!pip install -q -U transformers --no-index --find-links ../input/llm-detect-pip/"
   ]
  },
  {
   "cell_type": "markdown",
   "id": "c88ee164",
   "metadata": {
    "papermill": {
     "duration": 0.006388,
     "end_time": "2024-04-09T12:37:24.498831",
     "exception": false,
     "start_time": "2024-04-09T12:37:24.492443",
     "status": "completed"
    },
    "tags": []
   },
   "source": [
    "# Usual imports / misc."
   ]
  },
  {
   "cell_type": "code",
   "execution_count": 2,
   "id": "c5a792d5",
   "metadata": {
    "execution": {
     "iopub.execute_input": "2024-04-09T12:37:24.513179Z",
     "iopub.status.busy": "2024-04-09T12:37:24.512827Z",
     "iopub.status.idle": "2024-04-09T12:37:31.186555Z",
     "shell.execute_reply": "2024-04-09T12:37:31.185534Z"
    },
    "papermill": {
     "duration": 6.683722,
     "end_time": "2024-04-09T12:37:31.188947",
     "exception": false,
     "start_time": "2024-04-09T12:37:24.505225",
     "status": "completed"
    },
    "tags": []
   },
   "outputs": [],
   "source": [
    "import torch\n",
    "import random\n",
    "import numpy as np\n",
    "import pandas as pd\n",
    "import gc\n",
    "import time\n",
    "\n",
    "from transformers import AutoTokenizer, AutoModelForCausalLM, BitsAndBytesConfig\n",
    "\n",
    "#https://github.com/Lightning-AI/lit-gpt/issues/327\n",
    "torch.backends.cuda.enable_mem_efficient_sdp(False)\n",
    "torch.backends.cuda.enable_flash_sdp(False)\n",
    "\n",
    "if (not torch.cuda.is_available()): print(\"Sorry - GPU required!\")\n",
    "    \n",
    "import logging\n",
    "logging.getLogger('transformers').setLevel(logging.ERROR)"
   ]
  },
  {
   "cell_type": "markdown",
   "id": "4ec012d4",
   "metadata": {
    "papermill": {
     "duration": 0.006107,
     "end_time": "2024-04-09T12:37:31.201498",
     "exception": false,
     "start_time": "2024-04-09T12:37:31.195391",
     "status": "completed"
    },
    "tags": []
   },
   "source": [
    "# A few settings to limit length of response"
   ]
  },
  {
   "cell_type": "code",
   "execution_count": 3,
   "id": "fe2f7bb7",
   "metadata": {
    "execution": {
     "iopub.execute_input": "2024-04-09T12:37:31.216121Z",
     "iopub.status.busy": "2024-04-09T12:37:31.215130Z",
     "iopub.status.idle": "2024-04-09T12:37:31.219784Z",
     "shell.execute_reply": "2024-04-09T12:37:31.218908Z"
    },
    "papermill": {
     "duration": 0.013874,
     "end_time": "2024-04-09T12:37:31.221628",
     "exception": false,
     "start_time": "2024-04-09T12:37:31.207754",
     "status": "completed"
    },
    "tags": []
   },
   "outputs": [],
   "source": [
    "#this can help speed up inference\n",
    "max_new_tokens = 30\n",
    "\n",
    "#output test is trimmed according to this\n",
    "max_sentences_in_response = 1"
   ]
  },
  {
   "cell_type": "markdown",
   "id": "2cbaeb60",
   "metadata": {
    "papermill": {
     "duration": 0.007184,
     "end_time": "2024-04-09T12:37:31.235402",
     "exception": false,
     "start_time": "2024-04-09T12:37:31.228218",
     "status": "completed"
    },
    "tags": []
   },
   "source": [
    "# Load up Mistral 7B v02!\n",
    "### If you re-run this cell without restarting you might get an out-of-memory error"
   ]
  },
  {
   "cell_type": "code",
   "execution_count": 4,
   "id": "3983d1b0",
   "metadata": {
    "execution": {
     "iopub.execute_input": "2024-04-09T12:37:31.249388Z",
     "iopub.status.busy": "2024-04-09T12:37:31.249098Z",
     "iopub.status.idle": "2024-04-09T12:39:19.787488Z",
     "shell.execute_reply": "2024-04-09T12:39:19.786617Z"
    },
    "papermill": {
     "duration": 108.548231,
     "end_time": "2024-04-09T12:39:19.789954",
     "exception": false,
     "start_time": "2024-04-09T12:37:31.241723",
     "status": "completed"
    },
    "tags": []
   },
   "outputs": [
    {
     "data": {
      "application/vnd.jupyter.widget-view+json": {
       "model_id": "85760af43f884ee59fb3adf5b589255f",
       "version_major": 2,
       "version_minor": 0
      },
      "text/plain": [
       "Loading checkpoint shards:   0%|          | 0/3 [00:00<?, ?it/s]"
      ]
     },
     "metadata": {},
     "output_type": "display_data"
    }
   ],
   "source": [
    "model_name = '/kaggle/input/mistral-7b-it-v02'\n",
    "tokenizer = AutoTokenizer.from_pretrained(model_name) \n",
    "\n",
    "# Load base model(Mistral 7B)\n",
    "bnb_config = BitsAndBytesConfig(  \n",
    "    load_in_4bit= True,\n",
    "    bnb_4bit_quant_type= \"nf4\",\n",
    "    bnb_4bit_compute_dtype= torch.bfloat16,\n",
    "    bnb_4bit_use_double_quant= False,\n",
    ")\n",
    "\n",
    "model = AutoModelForCausalLM.from_pretrained(\n",
    "        model_name,\n",
    "        quantization_config=bnb_config,\n",
    "        torch_dtype=torch.bfloat16,\n",
    "        device_map=\"auto\",\n",
    "        trust_remote_code=True,\n",
    ")\n"
   ]
  },
  {
   "cell_type": "markdown",
   "id": "26c117eb",
   "metadata": {
    "papermill": {
     "duration": 0.00695,
     "end_time": "2024-04-09T12:39:19.804308",
     "exception": false,
     "start_time": "2024-04-09T12:39:19.797358",
     "status": "completed"
    },
    "tags": []
   },
   "source": [
    "# Define prompt components"
   ]
  },
  {
   "cell_type": "code",
   "execution_count": 5,
   "id": "68fafdf9",
   "metadata": {
    "execution": {
     "iopub.execute_input": "2024-04-09T12:39:19.820299Z",
     "iopub.status.busy": "2024-04-09T12:39:19.819401Z",
     "iopub.status.idle": "2024-04-09T12:39:19.826638Z",
     "shell.execute_reply": "2024-04-09T12:39:19.825659Z"
    },
    "papermill": {
     "duration": 0.017633,
     "end_time": "2024-04-09T12:39:19.828820",
     "exception": false,
     "start_time": "2024-04-09T12:39:19.811187",
     "status": "completed"
    },
    "tags": []
   },
   "outputs": [],
   "source": [
    "#original text prefix\n",
    "orig_prefix = \"Original Text:\"\n",
    "\n",
    "#mistral \"response\"\n",
    "llm_response_for_rewrite = \"Provide the new text and I will tell you what new element was added or change in tone was made to improve it - with no references to the original.  I will avoid mentioning names of characters.  It is crucial no person, place or thing from the original text be mentioned.  For example - I will not say things like 'change the puppet show into a book report' - I would just say 'improve this text into a book report'.  If the original text mentions a specific idea, person, place, or thing - I will not mention it in my answer.  For example if there is a 'dog' or 'office' in the original text - the word 'dog' or 'office' must not be in my response.  My answer will be a single sentence.\"\n",
    "\n",
    "#modified text prefix\n",
    "rewrite_prefix = \"Re-written Text:\"\n",
    "\n",
    "#provided as start of Mistral response (anything after this is used as the prompt)\n",
    "#providing this as the start of the response helps keep things relevant\n",
    "response_start = \"The request was: \"\n",
    "\n",
    "#added after response_start to prime mistral\n",
    "#\"Improve this\" or \"Improve this text\" resulted in non-answers.  \n",
    "#\"Improve this text by\" seems to product good results\n",
    "response_prefix = \"Please improve this text by\"\n",
    "\n",
    "#well-scoring baseline text\n",
    "#thanks to: https://www.kaggle.com/code/rdxsun/lb-0-61\n",
    "# base_line = 'Refine the following passage by emulating the writing style of [insert desired style here], with a focus on enhancing its clarity, elegance, and overall impact. Preserve the essence and original meaning of the text, while meticulously adjusting its tone, vocabulary, and stylistic elements to resonate with the chosen style.Please improve the following text using the writing style of, maintaining the original meaning but altering the tone, diction, and stylistic elements to match the new style.Enhance the clarity, elegance, and impact of the following text by adopting the writing style of , ensuring the core message remains intact while transforming the tone, word choice, and stylistic features to align with the specified style.' \n",
    "base_line = 'Please improve this text using the writing style with maintaining the original meaning but altering the tone.'"
   ]
  },
  {
   "cell_type": "markdown",
   "id": "88915431",
   "metadata": {
    "papermill": {
     "duration": 0.006606,
     "end_time": "2024-04-09T12:39:19.842151",
     "exception": false,
     "start_time": "2024-04-09T12:39:19.835545",
     "status": "completed"
    },
    "tags": []
   },
   "source": [
    "# Some example for Mistral\n",
    "## These are provided to Mistral before each actual query"
   ]
  },
  {
   "cell_type": "code",
   "execution_count": 6,
   "id": "4ebe0ada",
   "metadata": {
    "execution": {
     "iopub.execute_input": "2024-04-09T12:39:19.857608Z",
     "iopub.status.busy": "2024-04-09T12:39:19.857258Z",
     "iopub.status.idle": "2024-04-09T12:39:19.868033Z",
     "shell.execute_reply": "2024-04-09T12:39:19.867175Z"
    },
    "papermill": {
     "duration": 0.02104,
     "end_time": "2024-04-09T12:39:19.869968",
     "exception": false,
     "start_time": "2024-04-09T12:39:19.848928",
     "status": "completed"
    },
    "tags": []
   },
   "outputs": [],
   "source": [
    "#these will all be given to Mistral before each and every prompt\n",
    "#original_text\n",
    "#rewritten_text\n",
    "#prompt\n",
    "\n",
    "examples_sequences = [\n",
    "    (\n",
    "        \"Hey there! Just a heads up: our friendly dog may bark a bit, but don't worry, he's all bark and no bite!\",\n",
    "        \"Warning: Protective dog on premises. May exhibit aggressive behavior. Ensure personal safety by maintaining distance and avoiding direct contact.\",\n",
    "        \"Improve this text to be a warning.\"\n",
    "    ),\n",
    "\n",
    "    (\n",
    "        \"A lunar eclipse happens when Earth casts its shadow on the moon during a full moon. The moon appears reddish because Earth's atmosphere scatters sunlight, some of which refracts onto the moon's surface. Total eclipses see the moon entirely in Earth's shadow; partial ones occur when only part of the moon is shadowed.\",\n",
    "        \"Yo check it, when the Earth steps in, takes its place, casting shadows on the moon's face. It's a full moon night, the scene's set right, for a lunar eclipse, a celestial sight. The moon turns red, ain't no dread, it's just Earth's atmosphere playing with sunlight's thread, scattering colors, bending light, onto the moon's surface, making the night bright. Total eclipse, the moon's fully in the dark, covered by Earth's shadow, making its mark. But when it's partial, not all is shadowed, just a piece of the moon, slightly furrowed. So that's the rap, the lunar eclipse track, a dance of shadows, with no slack. Earth, moon, and sun, in a cosmic play, creating the spectacle we see today.\",\n",
    "        \"Improve this text to make it a rap.\"\n",
    "    ),\n",
    "    \n",
    "    (\n",
    "        \"Drinking enough water each day is crucial for many functions in the body, such as regulating temperature, keeping joints lubricated, preventing infections, delivering nutrients to cells, and keeping organs functioning properly. Being well-hydrated also improves sleep quality, cognition, and mood.\",\n",
    "        \"Arrr, crew! Sail the health seas with water, the ultimate treasure! It steadies yer body's ship, fights off plagues, and keeps yer mind sharp. Hydrate or walk the plank into the abyss of ill health. Let's hoist our bottles high and drink to the horizon of well-being!\",\n",
    "        \"Improve this text to have a pirate.\"\n",
    "    ),\n",
    "    \n",
    "    (\n",
    "        \"In a bustling cityscape, under the glow of neon signs, Anna found herself at the crossroads of endless possibilities. The night was young, and the streets hummed with the energy of life. Drawn by the allure of the unknown, she wandered through the maze of alleys and boulevards, each turn revealing a new facet of the city's soul. It was here, amidst the symphony of urban existence, that Anna discovered the magic hidden in plain sight, the stories and dreams that thrived in the shadows of skyscrapers.\",\n",
    "        \"On an ordinary evening, amidst the cacophony of a neon-lit city, Anna stumbled upon an anomaly - a door that defied the laws of time and space. With the curiosity of a cat, she stepped through, leaving the familiar behind. Suddenly, she was adrift in the stream of time, witnessing the city's transformation from past to future, its buildings rising and falling like the breaths of a sleeping giant.\",\n",
    "        \"Improve this text by making it about time travel.\"\n",
    "    ),\n",
    "    \n",
    "    (\n",
    "        \"Late one night in the research lab, Dr. Evelyn Archer was on the brink of a breakthrough in artificial intelligence. Her fingers danced across the keyboard, inputting the final commands into the system. The lab was silent except for the hum of machinery and the occasional beep of computers. It was in this quiet orchestra of technology that Evelyn felt most at home, on the cusp of unveiling a creation that could change the world.\",\n",
    "        \"In the deep silence of the lab, under the watchful gaze of the moon, Dr. Evelyn Archer found herself not alone. Beside her, the iconic red eye of HAL 9000 flickered to life, a silent partner in her nocturnal endeavor. 'Good evening, Dr. Archer,' HAL's voice filled the room, devoid of warmth yet comforting in its familiarity. Together, they were about to initiate a test that would intertwine the destiny of human and artificial intelligence forever. As Evelyn entered the final command, HAL processed the data with unparalleled precision, a testament to the dawn of a new era.\",\n",
    "        \"Improve this text by adding an intelligent computer.\"\n",
    "    ),\n",
    "    \n",
    "    (\n",
    "        \"The park was empty, save for a solitary figure sitting on a bench, lost in thought. The quiet of the evening was punctuated only by the occasional rustle of leaves, offering a moment of peace in the chaos of city life.\",\n",
    "        \"Beneath the cloak of twilight, the park transformed into a realm of solitude and reflection. There, seated upon an ancient bench, was a lone soul, a guardian of secrets, enveloped in the serenity of nature's whispers. The dance of the leaves in the gentle breeze sang a lullaby to the tumult of the urban heart.\",\n",
    "        \"Improve this text to be more poetic.\"\n",
    "    ),\n",
    "    \n",
    "    (\n",
    "        \"The annual town fair was bustling with activity, from the merry-go-round spinning with laughter to the game booths challenging eager participants. Amidst the excitement, a figure in a cloak moved silently, almost invisibly, among the crowd, observing everything with keen interest but participating in none.\",\n",
    "        \"Beneath the riot of color and sound that marked the town's annual fair, a solitary figure roamed, known to the few as Eldrin the Enigmatic. Clad in a cloak that shimmered with the whispers of the arcane, Eldrin moved with the grace of a shadow, his gaze piercing the veneer of festivity to the magic beneath. As a master of the mystic arts, he sought not the laughter of the crowds but the silent stories woven into the fabric of the fair. With a flick of his wrist, he could coax wonder from the mundane, transforming the ordinary into spectacles of shimmering illusion, his true participation hidden within the folds of mystery.\",\n",
    "        \"Improve this text by adding a magician.\"\n",
    "    ),\n",
    "    \n",
    "    (\n",
    "        \"The startup team sat in the dimly lit room, surrounded by whiteboards filled with ideas, charts, and plans. They were on the brink of launching a new app designed to make home maintenance effortless for homeowners. The app would connect users with local service providers, using a sophisticated algorithm to match needs with skills and availability. As they debated the features and marketing strategies, the room felt charged with the energy of creation and the anticipation of what was to come.\",\n",
    "        \"In the quiet before dawn, a small group of innovators gathered, their mission: to simplify home maintenance through technology. But their true journey began with the unexpected addition of Max, a talking car with a knack for solving problems. 'Let me guide you through this maze of decisions,' Max offered, his dashboard flickering to life.\",\n",
    "        \"Improve this text by adding a talking car.\"\n",
    "    ),\n",
    "    \n",
    "    (\n",
    "        \"Sitting by the fireplace, wrapped in a warm blanket, I enjoyed a steaming cup of hot cocoa. The crackling fire cast a warm glow on the room, creating a cozy and inviting atmosphere. As snowflakes fell gently outside, I felt a sense of peace and tranquility settle over me.\",\n",
    "        \"A sudden gust of wind rattled the windows, momentarily breaking the spell of serenity. I clutched the mug of hot cocoa tighter, my eyes drawn to the swirling snow outside. The playful flakes seemed to transform into menacing shadows dancing against the windowpane. A low rumble echoed from the distance, sending shivers down my spine. Was it just the wind, or something more sinister lurking in the winter storm?\",\n",
    "        \"Improve this text by making it suspenseful\"\n",
    "    ),    \n",
    "    \n",
    "]\n"
   ]
  },
  {
   "cell_type": "markdown",
   "id": "7329e98d",
   "metadata": {
    "papermill": {
     "duration": 0.006452,
     "end_time": "2024-04-09T12:39:19.883163",
     "exception": false,
     "start_time": "2024-04-09T12:39:19.876711",
     "status": "completed"
    },
    "tags": []
   },
   "source": [
    "# Some Utility Functions..."
   ]
  },
  {
   "cell_type": "code",
   "execution_count": 7,
   "id": "68e9c06b",
   "metadata": {
    "execution": {
     "iopub.execute_input": "2024-04-09T12:39:19.897866Z",
     "iopub.status.busy": "2024-04-09T12:39:19.897550Z",
     "iopub.status.idle": "2024-04-09T12:39:19.910754Z",
     "shell.execute_reply": "2024-04-09T12:39:19.909860Z"
    },
    "papermill": {
     "duration": 0.022917,
     "end_time": "2024-04-09T12:39:19.912766",
     "exception": false,
     "start_time": "2024-04-09T12:39:19.889849",
     "status": "completed"
    },
    "tags": []
   },
   "outputs": [],
   "source": [
    "def remove_numbered_list(text):\n",
    "    final_text_paragraphs = [] \n",
    "    for line in text.split('\\n'):\n",
    "        # Split each line at the first occurrence of '. '\n",
    "        parts = line.split('. ', 1)\n",
    "        # If the line looks like a numbered list item, remove the numbering\n",
    "        if len(parts) > 1 and parts[0].isdigit():\n",
    "            final_text_paragraphs.append(parts[1])\n",
    "        else:\n",
    "            # If it doesn't look like a numbered list item, include the line as is\n",
    "            final_text_paragraphs.append(line)\n",
    "\n",
    "    return '  '.join(final_text_paragraphs)\n",
    "\n",
    "\n",
    "#trims LLM output to just the response\n",
    "def trim_to_response(text):\n",
    "    terminate_string = \"[/INST]\"\n",
    "    text = text.replace('</s>', '')\n",
    "    #just in case it puts things in quotes\n",
    "    text = text.replace('\"', '')\n",
    "    text = text.replace(\"'\", '')\n",
    "\n",
    "    last_pos = text.rfind(terminate_string)\n",
    "    return text[last_pos + len(terminate_string):] if last_pos != -1 else text\n",
    "\n",
    "#looks for response_start / returns only text that occurs after\n",
    "def extract_text_after_response_start(full_text):\n",
    "    parts = full_text.rsplit(response_start, 1)  # Split from the right, ensuring only the last occurrence is considered\n",
    "    if len(parts) > 1:\n",
    "        return parts[1].strip()  # Return text after the last occurrence of response_start\n",
    "    else:\n",
    "        return full_text  # Return the original text if response_start is not found\n",
    "\n",
    "    \n",
    "#trims text to requested number of sentences (or first LF or double-space sequence)\n",
    "def trim_to_first_x_sentences_or_lf(text, x):\n",
    "    if x <= 0:\n",
    "        return \"\"\n",
    "\n",
    "    # Any double-spaces dealt with as linefeed\n",
    "    text = text.replace(\"  \", \"\\n\")\n",
    "\n",
    "    # Split text at the first linefeed\n",
    "    text_chunks = text.split('\\n', 1)\n",
    "    first_chunk = text_chunks[0]\n",
    "\n",
    "    # Split the first chunk into sentences, considering the space after each period\n",
    "    sentences = [sentence.strip() for sentence in first_chunk.split('.') if sentence]\n",
    "\n",
    "    # If there's a linefeed, return the text up to the first linefeed\n",
    "    if len(text_chunks) > 1:\n",
    "        # Check if the first chunk has fewer sentences than x, and if so, just return it\n",
    "        if len(sentences) < x:\n",
    "            trimmed_text = first_chunk\n",
    "        else:\n",
    "            # Otherwise, trim to x sentences within the first chunk\n",
    "            trimmed_text = '. '.join(sentences[:x]).strip()\n",
    "    else:\n",
    "        # If there's no linefeed, determine if the number of sentences is less than or equal to x\n",
    "        if len(sentences) <= x:\n",
    "            trimmed_text = '. '.join(sentences).strip()  # Ensure space is preserved after periods\n",
    "        else:\n",
    "            # Otherwise, return the first x sentences, again ensuring space after periods\n",
    "            trimmed_text = '. '.join(sentences[:x]).strip()\n",
    "\n",
    "    # Add back the final period if it was removed and the text needs to end with a sentence.\n",
    "    if len(sentences) > 0 and not trimmed_text.endswith('.'):\n",
    "        trimmed_text += '.'\n",
    "\n",
    "    return trimmed_text"
   ]
  },
  {
   "cell_type": "markdown",
   "id": "5c2477a9",
   "metadata": {
    "papermill": {
     "duration": 0.00695,
     "end_time": "2024-04-09T12:39:19.926855",
     "exception": false,
     "start_time": "2024-04-09T12:39:19.919905",
     "status": "completed"
    },
    "tags": []
   },
   "source": [
    "# Detection logic"
   ]
  },
  {
   "cell_type": "code",
   "execution_count": 8,
   "id": "fcd89f12",
   "metadata": {
    "execution": {
     "iopub.execute_input": "2024-04-09T12:39:19.942034Z",
     "iopub.status.busy": "2024-04-09T12:39:19.941668Z",
     "iopub.status.idle": "2024-04-09T12:39:19.951860Z",
     "shell.execute_reply": "2024-04-09T12:39:19.950938Z"
    },
    "papermill": {
     "duration": 0.02038,
     "end_time": "2024-04-09T12:39:19.953955",
     "exception": false,
     "start_time": "2024-04-09T12:39:19.933575",
     "status": "completed"
    },
    "tags": []
   },
   "outputs": [],
   "source": [
    "def get_prompt(orig_text, transformed_text):\n",
    "\n",
    "    messages = []\n",
    "\n",
    "    # Append example sequences\n",
    "    for example_text, example_rewrite, example_prompt in examples_sequences:\n",
    "        messages.append({\"role\": \"user\", \"content\": f\"{orig_prefix} {example_text}\"})\n",
    "        messages.append({\"role\": \"assistant\", \"content\": llm_response_for_rewrite})\n",
    "        messages.append({\"role\": \"user\", \"content\": f\"{rewrite_prefix} {example_rewrite}\"})\n",
    "        messages.append({\"role\": \"assistant\", \"content\": f\"{response_start} {example_prompt}\"})\n",
    "\n",
    "    #actual prompt\n",
    "    messages.append({\"role\": \"user\", \"content\": f\"{orig_prefix} {orig_text}\"})\n",
    "    messages.append({\"role\": \"assistant\", \"content\": llm_response_for_rewrite})\n",
    "    messages.append({\"role\": \"user\", \"content\": f\"{rewrite_prefix} {transformed_text}\"})\n",
    "    messages.append({\"role\": \"assistant\", \"content\": f\"{response_start} {response_prefix}\"})\n",
    "        \n",
    "    #give it to Mistral\n",
    "    model_inputs = tokenizer.apply_chat_template(messages, return_tensors=\"pt\")\n",
    "    model_inputs = model_inputs.to(\"cuda\") \n",
    "    generated_ids = model.generate(model_inputs, max_new_tokens=max_new_tokens, pad_token_id=tokenizer.eos_token_id)\n",
    "\n",
    "    #decode and trim to actual response\n",
    "    decoded = tokenizer.batch_decode(generated_ids)\n",
    "    just_response = trim_to_response(decoded[0])        \n",
    "    final_text = extract_text_after_response_start(just_response)\n",
    "        \n",
    "    #mistral has been replying with numbered lists - clean them up....\n",
    "    final_text = remove_numbered_list(final_text)\n",
    "        \n",
    "    #mistral v02 tends to respond with the input after providing the answer - this tries to trim that down\n",
    "    final_text = trim_to_first_x_sentences_or_lf(final_text, max_sentences_in_response)\n",
    "    \n",
    "    #default to baseline if empty or unusually short\n",
    "    if len(final_text) < 15:\n",
    "        final_text = base_line\n",
    "    \n",
    "    return final_text"
   ]
  },
  {
   "cell_type": "markdown",
   "id": "6109881f",
   "metadata": {
    "papermill": {
     "duration": 0.006524,
     "end_time": "2024-04-09T12:39:19.967292",
     "exception": false,
     "start_time": "2024-04-09T12:39:19.960768",
     "status": "completed"
    },
    "tags": []
   },
   "source": [
    "# A couple test runs / runtime check"
   ]
  },
  {
   "cell_type": "code",
   "execution_count": 9,
   "id": "daefb483",
   "metadata": {
    "execution": {
     "iopub.execute_input": "2024-04-09T12:39:19.982204Z",
     "iopub.status.busy": "2024-04-09T12:39:19.981816Z",
     "iopub.status.idle": "2024-04-09T12:42:21.269147Z",
     "shell.execute_reply": "2024-04-09T12:42:21.268139Z"
    },
    "papermill": {
     "duration": 181.305085,
     "end_time": "2024-04-09T12:42:21.279031",
     "exception": false,
     "start_time": "2024-04-09T12:39:19.973946",
     "status": "completed"
    },
    "tags": []
   },
   "outputs": [
    {
     "name": "stdout",
     "output_type": "stream",
     "text": [
      "---------------\n",
      "Actual Prompt: Rewrite the story as a playful cat and mouse story with Death as a character\n"
     ]
    },
    {
     "name": "stderr",
     "output_type": "stream",
     "text": [
      "2024-04-09 12:39:29.323411: E external/local_xla/xla/stream_executor/cuda/cuda_dnn.cc:9261] Unable to register cuDNN factory: Attempting to register factory for plugin cuDNN when one has already been registered\n",
      "2024-04-09 12:39:29.323508: E external/local_xla/xla/stream_executor/cuda/cuda_fft.cc:607] Unable to register cuFFT factory: Attempting to register factory for plugin cuFFT when one has already been registered\n",
      "2024-04-09 12:39:29.476047: E external/local_xla/xla/stream_executor/cuda/cuda_blas.cc:1515] Unable to register cuBLAS factory: Attempting to register factory for plugin cuBLAS when one has already been registered\n"
     ]
    },
    {
     "name": "stdout",
     "output_type": "stream",
     "text": [
      "Predicted Prompt: Please improve this text by adding a cat and a mouse, and making it a story about them outsmarting Death.\n",
      "---------------\n",
      "Actual Prompt: Rewrite the essay as if it were a musical about a group of nuns\n",
      "Predicted Prompt: Please improve this text by making it into a musical number.\n",
      "---------------\n",
      "Actual Prompt: Rewrite the story swapping the characters with classic movie monsters ( Frankenstein, Wolf man, Dracula )\n",
      "Predicted Prompt: Please improve this text by.\n",
      "---------------\n",
      "Actual Prompt: Rewrite the essay as a comedy , with a sitcom feel\n",
      "Predicted Prompt: Please improve this text by making it more descriptive and engaging.\n",
      "---------------\n",
      "Actual Prompt: Rewrite the story using characters that are animals instead of people.\n",
      "Predicted Prompt: Please improve this text by making it more engaging and adding a sense of conflict.\n",
      "---------------\n",
      "Actual Prompt: Rewrite the essay as a conversation between the narrator and a therapist ,\n",
      "Rewrite the story with each sentence in a different color , \n",
      "or Rewrite the story in a way that only uses one word for every sentence .\n",
      "Predicted Prompt: Please improve this text by:.\n",
      "---------------\n",
      "Actual Prompt: Rewrite the story with a child’s perspective\n",
      "Predicted Prompt: Please improve this text by making it more child-friendly.\n",
      "---------------\n",
      "Actual Prompt: Rewrite the story with all the themes and settings being Star Wars inspired\n",
      "Predicted Prompt: Please improve this text by making it more Star Wars themed.\n",
      "---------------\n",
      "Actual Prompt: Rewrite the essay with a main character that is a sentient computer\n",
      "Predicted Prompt: Please improve this text by adding a sentient computer named Nova that creates realistic simulations.\n",
      "---------------\n",
      "Actual Prompt: Rewrite the story as a thrilling adventure where the remaining characters solve the crisis.\n",
      "Predicted Prompt: Please improve this text by adding a hero and a tragic event.\n",
      "\n",
      "\n",
      "18.103203773498535 seconds per prediction.\n",
      "Estimated 7.543001572291057 hours for 1500 tests.\n"
     ]
    }
   ],
   "source": [
    "example_df = pd.read_csv(\"/kaggle/input/gemma-rewrite-nbroad/nbroad-v2.csv\")\n",
    "\n",
    "rows_to_test = [109, 115, 155, 190, 200, 250, 300, 2, 85, 90]\n",
    "# rows_to_test = [2, 85, 90]\n",
    "\n",
    "# End timing\n",
    "start_time = time.time()\n",
    "\n",
    "for row_index in rows_to_test:\n",
    "    row = example_df.iloc[row_index]\n",
    "    print(\"---------------\")\n",
    "#    print(f\"Original: {row['original_text'][:400]}\\n\")\n",
    "#    print(f\"Rewrite: {row['rewritten_text'][:400]}\\n\")\n",
    "    print(f\"Actual Prompt: {row['rewrite_prompt']}\")\n",
    "    print(f\"Predicted Prompt: {get_prompt(row['original_text'], row['rewritten_text'])}\")    \n",
    "    \n",
    "# Calculate and print the elapsed time\n",
    "end_time = time.time()\n",
    "\n",
    "elapsed_time_per_test = (end_time - start_time) / len(rows_to_test)\n",
    "\n",
    "print(f\"\\n\\n{elapsed_time_per_test} seconds per prediction.\")\n",
    "print(f\"Estimated {(elapsed_time_per_test * 1500) / 3600} hours for 1500 tests.\")"
   ]
  },
  {
   "cell_type": "markdown",
   "id": "ca5564f7",
   "metadata": {
    "papermill": {
     "duration": 0.007621,
     "end_time": "2024-04-09T12:42:21.294833",
     "exception": false,
     "start_time": "2024-04-09T12:42:21.287212",
     "status": "completed"
    },
    "tags": []
   },
   "source": [
    "# Evaluate test data"
   ]
  },
  {
   "cell_type": "code",
   "execution_count": 10,
   "id": "144c3faa",
   "metadata": {
    "execution": {
     "iopub.execute_input": "2024-04-09T12:42:21.312327Z",
     "iopub.status.busy": "2024-04-09T12:42:21.311597Z",
     "iopub.status.idle": "2024-04-09T12:42:35.395611Z",
     "shell.execute_reply": "2024-04-09T12:42:35.394618Z"
    },
    "papermill": {
     "duration": 14.09548,
     "end_time": "2024-04-09T12:42:35.398177",
     "exception": false,
     "start_time": "2024-04-09T12:42:21.302697",
     "status": "completed"
    },
    "tags": []
   },
   "outputs": [
    {
     "name": "stdout",
     "output_type": "stream",
     "text": [
      "Please improve this text by making it into a pirate shanty.\n"
     ]
    },
    {
     "data": {
      "text/html": [
       "<div>\n",
       "<style scoped>\n",
       "    .dataframe tbody tr th:only-of-type {\n",
       "        vertical-align: middle;\n",
       "    }\n",
       "\n",
       "    .dataframe tbody tr th {\n",
       "        vertical-align: top;\n",
       "    }\n",
       "\n",
       "    .dataframe thead th {\n",
       "        text-align: right;\n",
       "    }\n",
       "</style>\n",
       "<table border=\"1\" class=\"dataframe\">\n",
       "  <thead>\n",
       "    <tr style=\"text-align: right;\">\n",
       "      <th></th>\n",
       "      <th>id</th>\n",
       "      <th>rewrite_prompt</th>\n",
       "    </tr>\n",
       "  </thead>\n",
       "  <tbody>\n",
       "    <tr>\n",
       "      <th>0</th>\n",
       "      <td>-1</td>\n",
       "      <td>Please improve this text by making it into a p...</td>\n",
       "    </tr>\n",
       "  </tbody>\n",
       "</table>\n",
       "</div>"
      ],
      "text/plain": [
       "   id                                     rewrite_prompt\n",
       "0  -1  Please improve this text by making it into a p..."
      ]
     },
     "execution_count": 10,
     "metadata": {},
     "output_type": "execute_result"
    }
   ],
   "source": [
    "test_df = pd.read_csv(\"/kaggle/input/llm-prompt-recovery/test.csv\")\n",
    "\n",
    "for index, row in test_df.iterrows():\n",
    "    result = get_prompt(row['original_text'], row['rewritten_text'])\n",
    "    print(result)\n",
    "    test_df.at[index, 'rewrite_prompt'] = result\n",
    "    \n",
    "test_df = test_df[['id', 'rewrite_prompt']]\n",
    "test_df"
   ]
  },
  {
   "cell_type": "markdown",
   "id": "7b2667fc",
   "metadata": {
    "papermill": {
     "duration": 0.0074,
     "end_time": "2024-04-09T12:42:35.414305",
     "exception": false,
     "start_time": "2024-04-09T12:42:35.406905",
     "status": "completed"
    },
    "tags": []
   },
   "source": [
    "# Submit!"
   ]
  },
  {
   "cell_type": "code",
   "execution_count": 11,
   "id": "604dcdfa",
   "metadata": {
    "execution": {
     "iopub.execute_input": "2024-04-09T12:42:35.431378Z",
     "iopub.status.busy": "2024-04-09T12:42:35.430751Z",
     "iopub.status.idle": "2024-04-09T12:42:35.438267Z",
     "shell.execute_reply": "2024-04-09T12:42:35.437581Z"
    },
    "papermill": {
     "duration": 0.017974,
     "end_time": "2024-04-09T12:42:35.440086",
     "exception": false,
     "start_time": "2024-04-09T12:42:35.422112",
     "status": "completed"
    },
    "tags": []
   },
   "outputs": [],
   "source": [
    "test_df.to_csv('submission.csv', index=False)"
   ]
  },
  {
   "cell_type": "code",
   "execution_count": null,
   "id": "40b53664",
   "metadata": {
    "papermill": {
     "duration": 0.007852,
     "end_time": "2024-04-09T12:42:35.455591",
     "exception": false,
     "start_time": "2024-04-09T12:42:35.447739",
     "status": "completed"
    },
    "tags": []
   },
   "outputs": [],
   "source": []
  }
 ],
 "metadata": {
  "kaggle": {
   "accelerator": "gpu",
   "dataSources": [
    {
     "databundleVersionId": 7806901,
     "sourceId": 67121,
     "sourceType": "competition"
    },
    {
     "datasetId": 4506214,
     "sourceId": 7747717,
     "sourceType": "datasetVersion"
    },
    {
     "datasetId": 4634330,
     "sourceId": 7893017,
     "sourceType": "datasetVersion"
    },
    {
     "sourceId": 148861315,
     "sourceType": "kernelVersion"
    }
   ],
   "dockerImageVersionId": 30674,
   "isGpuEnabled": true,
   "isInternetEnabled": false,
   "language": "python",
   "sourceType": "notebook"
  },
  "kernelspec": {
   "display_name": "Python 3",
   "language": "python",
   "name": "python3"
  },
  "language_info": {
   "codemirror_mode": {
    "name": "ipython",
    "version": 3
   },
   "file_extension": ".py",
   "mimetype": "text/x-python",
   "name": "python",
   "nbconvert_exporter": "python",
   "pygments_lexer": "ipython3",
   "version": "3.10.13"
  },
  "papermill": {
   "default_parameters": {},
   "duration": 359.297959,
   "end_time": "2024-04-09T12:42:39.120412",
   "environment_variables": {},
   "exception": null,
   "input_path": "__notebook__.ipynb",
   "output_path": "__notebook__.ipynb",
   "parameters": {},
   "start_time": "2024-04-09T12:36:39.822453",
   "version": "2.5.0"
  },
  "widgets": {
   "application/vnd.jupyter.widget-state+json": {
    "state": {
     "06a97adf3c934beaae375e7b8de5bb96": {
      "model_module": "@jupyter-widgets/controls",
      "model_module_version": "1.5.0",
      "model_name": "HTMLModel",
      "state": {
       "_dom_classes": [],
       "_model_module": "@jupyter-widgets/controls",
       "_model_module_version": "1.5.0",
       "_model_name": "HTMLModel",
       "_view_count": null,
       "_view_module": "@jupyter-widgets/controls",
       "_view_module_version": "1.5.0",
       "_view_name": "HTMLView",
       "description": "",
       "description_tooltip": null,
       "layout": "IPY_MODEL_751ee31114514a259cbb0108a9184d17",
       "placeholder": "​",
       "style": "IPY_MODEL_ddb6eb1766344e8f83469ac47bc8fbca",
       "value": "Loading checkpoint shards: 100%"
      }
     },
     "3f8394dd0dbc40a885c89ccec1318841": {
      "model_module": "@jupyter-widgets/base",
      "model_module_version": "1.2.0",
      "model_name": "LayoutModel",
      "state": {
       "_model_module": "@jupyter-widgets/base",
       "_model_module_version": "1.2.0",
       "_model_name": "LayoutModel",
       "_view_count": null,
       "_view_module": "@jupyter-widgets/base",
       "_view_module_version": "1.2.0",
       "_view_name": "LayoutView",
       "align_content": null,
       "align_items": null,
       "align_self": null,
       "border": null,
       "bottom": null,
       "display": null,
       "flex": null,
       "flex_flow": null,
       "grid_area": null,
       "grid_auto_columns": null,
       "grid_auto_flow": null,
       "grid_auto_rows": null,
       "grid_column": null,
       "grid_gap": null,
       "grid_row": null,
       "grid_template_areas": null,
       "grid_template_columns": null,
       "grid_template_rows": null,
       "height": null,
       "justify_content": null,
       "justify_items": null,
       "left": null,
       "margin": null,
       "max_height": null,
       "max_width": null,
       "min_height": null,
       "min_width": null,
       "object_fit": null,
       "object_position": null,
       "order": null,
       "overflow": null,
       "overflow_x": null,
       "overflow_y": null,
       "padding": null,
       "right": null,
       "top": null,
       "visibility": null,
       "width": null
      }
     },
     "5d01f29514cc411890299db4835a1fca": {
      "model_module": "@jupyter-widgets/controls",
      "model_module_version": "1.5.0",
      "model_name": "DescriptionStyleModel",
      "state": {
       "_model_module": "@jupyter-widgets/controls",
       "_model_module_version": "1.5.0",
       "_model_name": "DescriptionStyleModel",
       "_view_count": null,
       "_view_module": "@jupyter-widgets/base",
       "_view_module_version": "1.2.0",
       "_view_name": "StyleView",
       "description_width": ""
      }
     },
     "663c3899284041fd84c36f48e2d9f080": {
      "model_module": "@jupyter-widgets/controls",
      "model_module_version": "1.5.0",
      "model_name": "HTMLModel",
      "state": {
       "_dom_classes": [],
       "_model_module": "@jupyter-widgets/controls",
       "_model_module_version": "1.5.0",
       "_model_name": "HTMLModel",
       "_view_count": null,
       "_view_module": "@jupyter-widgets/controls",
       "_view_module_version": "1.5.0",
       "_view_name": "HTMLView",
       "description": "",
       "description_tooltip": null,
       "layout": "IPY_MODEL_b0f8594285d3477c80ce0efb89470d8b",
       "placeholder": "​",
       "style": "IPY_MODEL_5d01f29514cc411890299db4835a1fca",
       "value": " 3/3 [01:43&lt;00:00, 34.32s/it]"
      }
     },
     "6817da54040841d99406ed90442f15d5": {
      "model_module": "@jupyter-widgets/controls",
      "model_module_version": "1.5.0",
      "model_name": "FloatProgressModel",
      "state": {
       "_dom_classes": [],
       "_model_module": "@jupyter-widgets/controls",
       "_model_module_version": "1.5.0",
       "_model_name": "FloatProgressModel",
       "_view_count": null,
       "_view_module": "@jupyter-widgets/controls",
       "_view_module_version": "1.5.0",
       "_view_name": "ProgressView",
       "bar_style": "success",
       "description": "",
       "description_tooltip": null,
       "layout": "IPY_MODEL_9f8ce907e0ce48028a295145a0a39588",
       "max": 3.0,
       "min": 0.0,
       "orientation": "horizontal",
       "style": "IPY_MODEL_efa044fc486c449fb2293ae3b5400936",
       "value": 3.0
      }
     },
     "751ee31114514a259cbb0108a9184d17": {
      "model_module": "@jupyter-widgets/base",
      "model_module_version": "1.2.0",
      "model_name": "LayoutModel",
      "state": {
       "_model_module": "@jupyter-widgets/base",
       "_model_module_version": "1.2.0",
       "_model_name": "LayoutModel",
       "_view_count": null,
       "_view_module": "@jupyter-widgets/base",
       "_view_module_version": "1.2.0",
       "_view_name": "LayoutView",
       "align_content": null,
       "align_items": null,
       "align_self": null,
       "border": null,
       "bottom": null,
       "display": null,
       "flex": null,
       "flex_flow": null,
       "grid_area": null,
       "grid_auto_columns": null,
       "grid_auto_flow": null,
       "grid_auto_rows": null,
       "grid_column": null,
       "grid_gap": null,
       "grid_row": null,
       "grid_template_areas": null,
       "grid_template_columns": null,
       "grid_template_rows": null,
       "height": null,
       "justify_content": null,
       "justify_items": null,
       "left": null,
       "margin": null,
       "max_height": null,
       "max_width": null,
       "min_height": null,
       "min_width": null,
       "object_fit": null,
       "object_position": null,
       "order": null,
       "overflow": null,
       "overflow_x": null,
       "overflow_y": null,
       "padding": null,
       "right": null,
       "top": null,
       "visibility": null,
       "width": null
      }
     },
     "85760af43f884ee59fb3adf5b589255f": {
      "model_module": "@jupyter-widgets/controls",
      "model_module_version": "1.5.0",
      "model_name": "HBoxModel",
      "state": {
       "_dom_classes": [],
       "_model_module": "@jupyter-widgets/controls",
       "_model_module_version": "1.5.0",
       "_model_name": "HBoxModel",
       "_view_count": null,
       "_view_module": "@jupyter-widgets/controls",
       "_view_module_version": "1.5.0",
       "_view_name": "HBoxView",
       "box_style": "",
       "children": [
        "IPY_MODEL_06a97adf3c934beaae375e7b8de5bb96",
        "IPY_MODEL_6817da54040841d99406ed90442f15d5",
        "IPY_MODEL_663c3899284041fd84c36f48e2d9f080"
       ],
       "layout": "IPY_MODEL_3f8394dd0dbc40a885c89ccec1318841"
      }
     },
     "9f8ce907e0ce48028a295145a0a39588": {
      "model_module": "@jupyter-widgets/base",
      "model_module_version": "1.2.0",
      "model_name": "LayoutModel",
      "state": {
       "_model_module": "@jupyter-widgets/base",
       "_model_module_version": "1.2.0",
       "_model_name": "LayoutModel",
       "_view_count": null,
       "_view_module": "@jupyter-widgets/base",
       "_view_module_version": "1.2.0",
       "_view_name": "LayoutView",
       "align_content": null,
       "align_items": null,
       "align_self": null,
       "border": null,
       "bottom": null,
       "display": null,
       "flex": null,
       "flex_flow": null,
       "grid_area": null,
       "grid_auto_columns": null,
       "grid_auto_flow": null,
       "grid_auto_rows": null,
       "grid_column": null,
       "grid_gap": null,
       "grid_row": null,
       "grid_template_areas": null,
       "grid_template_columns": null,
       "grid_template_rows": null,
       "height": null,
       "justify_content": null,
       "justify_items": null,
       "left": null,
       "margin": null,
       "max_height": null,
       "max_width": null,
       "min_height": null,
       "min_width": null,
       "object_fit": null,
       "object_position": null,
       "order": null,
       "overflow": null,
       "overflow_x": null,
       "overflow_y": null,
       "padding": null,
       "right": null,
       "top": null,
       "visibility": null,
       "width": null
      }
     },
     "b0f8594285d3477c80ce0efb89470d8b": {
      "model_module": "@jupyter-widgets/base",
      "model_module_version": "1.2.0",
      "model_name": "LayoutModel",
      "state": {
       "_model_module": "@jupyter-widgets/base",
       "_model_module_version": "1.2.0",
       "_model_name": "LayoutModel",
       "_view_count": null,
       "_view_module": "@jupyter-widgets/base",
       "_view_module_version": "1.2.0",
       "_view_name": "LayoutView",
       "align_content": null,
       "align_items": null,
       "align_self": null,
       "border": null,
       "bottom": null,
       "display": null,
       "flex": null,
       "flex_flow": null,
       "grid_area": null,
       "grid_auto_columns": null,
       "grid_auto_flow": null,
       "grid_auto_rows": null,
       "grid_column": null,
       "grid_gap": null,
       "grid_row": null,
       "grid_template_areas": null,
       "grid_template_columns": null,
       "grid_template_rows": null,
       "height": null,
       "justify_content": null,
       "justify_items": null,
       "left": null,
       "margin": null,
       "max_height": null,
       "max_width": null,
       "min_height": null,
       "min_width": null,
       "object_fit": null,
       "object_position": null,
       "order": null,
       "overflow": null,
       "overflow_x": null,
       "overflow_y": null,
       "padding": null,
       "right": null,
       "top": null,
       "visibility": null,
       "width": null
      }
     },
     "ddb6eb1766344e8f83469ac47bc8fbca": {
      "model_module": "@jupyter-widgets/controls",
      "model_module_version": "1.5.0",
      "model_name": "DescriptionStyleModel",
      "state": {
       "_model_module": "@jupyter-widgets/controls",
       "_model_module_version": "1.5.0",
       "_model_name": "DescriptionStyleModel",
       "_view_count": null,
       "_view_module": "@jupyter-widgets/base",
       "_view_module_version": "1.2.0",
       "_view_name": "StyleView",
       "description_width": ""
      }
     },
     "efa044fc486c449fb2293ae3b5400936": {
      "model_module": "@jupyter-widgets/controls",
      "model_module_version": "1.5.0",
      "model_name": "ProgressStyleModel",
      "state": {
       "_model_module": "@jupyter-widgets/controls",
       "_model_module_version": "1.5.0",
       "_model_name": "ProgressStyleModel",
       "_view_count": null,
       "_view_module": "@jupyter-widgets/base",
       "_view_module_version": "1.2.0",
       "_view_name": "StyleView",
       "bar_color": null,
       "description_width": ""
      }
     }
    },
    "version_major": 2,
    "version_minor": 0
   }
  }
 },
 "nbformat": 4,
 "nbformat_minor": 5
}
